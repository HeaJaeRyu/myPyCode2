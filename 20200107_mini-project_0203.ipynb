{
 "cells": [
  {
   "cell_type": "markdown",
   "metadata": {},
   "source": [
    "# Task \n",
    "1. `data_coffee.csv`를 읽어온다.\n",
    "2. 매장의규모(`sizeOfsite`) 변수를 요약한다.\n",
    "3. `sizeOfsite`의 결측치(NA)를 제거하고 히스토그램을 그린다.\n",
    "4. 매장 규모가 500인 이상인 `outlier`를 제외하고 히스토그램을 그린다."
   ]
  },
  {
   "cell_type": "code",
   "execution_count": 1,
   "metadata": {},
   "outputs": [],
   "source": [
    "import pandas as pd\n",
    "import numpy as np\n",
    "import os\n",
    "import matplotlib.pyplot as plt\n",
    "from matplotlib import font_manager, rc\n",
    "%matplotlib inline\n",
    "font_name = font_manager.FontProperties(fname=\"c:/Windows/Fonts/malgun.ttf\").get_name()\n",
    "rc('font', family=font_name)"
   ]
  },
  {
   "cell_type": "markdown",
   "metadata": {},
   "source": [
    "데이터 불러오기 "
   ]
  },
  {
   "cell_type": "code",
   "execution_count": 2,
   "metadata": {},
   "outputs": [],
   "source": [
    "os.chdir(r\"C:\\myPyCode2\\01 Python 분석 기초 - 실습\\data\")"
   ]
  },
  {
   "cell_type": "code",
   "execution_count": 17,
   "metadata": {},
   "outputs": [],
   "source": [
    "df0 = pd.read_csv('data_coffee.csv', header='infer',encoding = 'ms949', na_values=[' '])"
   ]
  },
  {
   "cell_type": "code",
   "execution_count": 18,
   "metadata": {},
   "outputs": [
    {
     "data": {
      "text/plain": [
       "array([ 20.8 , 212.72,  20.04, ...,  29.06, 199.76, 176.49])"
      ]
     },
     "execution_count": 18,
     "metadata": {},
     "output_type": "execute_result"
    }
   ],
   "source": [
    "pd.unique(df0.sizeOfsite)"
   ]
  },
  {
   "cell_type": "code",
   "execution_count": 19,
   "metadata": {},
   "outputs": [
    {
     "name": "stdout",
     "output_type": "stream",
     "text": [
      "<class 'pandas.core.frame.DataFrame'>\n",
      "RangeIndex: 46832 entries, 0 to 46831\n",
      "Data columns (total 23 columns):\n",
      "number                  46832 non-null int64\n",
      "companyName             46832 non-null object\n",
      "adress                  46600 non-null object\n",
      "adressBystreet          39548 non-null object\n",
      "dateOflicensing         46832 non-null int64\n",
      "stateOfbusiness         46832 non-null object\n",
      "dateOfclosure           13245 non-null float64\n",
      "startdateOfcessation    0 non-null float64\n",
      "duedateOfcessation      0 non-null float64\n",
      "dateOfreOpen            0 non-null float64\n",
      "areaOfsite              0 non-null float64\n",
      "zip                     0 non-null float64\n",
      "waterwork               29610 non-null object\n",
      "numOfmenWorker          5918 non-null float64\n",
      "yearOfStart             46813 non-null float64\n",
      "multipleUse             46813 non-null object\n",
      "grade                   3775 non-null object\n",
      "sizeOfsite              46813 non-null float64\n",
      "numOfwomenWorker        7042 non-null float64\n",
      "vicintyOfsite           12894 non-null object\n",
      "sanitaryName            46813 non-null object\n",
      "businessCondition       46813 non-null object\n",
      "totalOfworker           5537 non-null float64\n",
      "dtypes: float64(11), int64(2), object(10)\n",
      "memory usage: 8.2+ MB\n"
     ]
    }
   ],
   "source": [
    "df0.info()"
   ]
  },
  {
   "cell_type": "code",
   "execution_count": 20,
   "metadata": {},
   "outputs": [
    {
     "data": {
      "text/plain": [
       "Index(['number', 'companyName', 'adress', 'adressBystreet', 'dateOflicensing',\n",
       "       'stateOfbusiness', 'dateOfclosure', 'startdateOfcessation',\n",
       "       'duedateOfcessation', 'dateOfreOpen', 'areaOfsite', 'zip', 'waterwork',\n",
       "       'numOfmenWorker', 'yearOfStart', 'multipleUse', 'grade', 'sizeOfsite',\n",
       "       'numOfwomenWorker', 'vicintyOfsite', 'sanitaryName',\n",
       "       'businessCondition', 'totalOfworker'],\n",
       "      dtype='object')"
      ]
     },
     "execution_count": 20,
     "metadata": {},
     "output_type": "execute_result"
    }
   ],
   "source": [
    "header = df0.columns\n",
    "header"
   ]
  },
  {
   "cell_type": "code",
   "execution_count": 21,
   "metadata": {},
   "outputs": [
    {
     "data": {
      "text/plain": [
       "number                      0\n",
       "companyName                 0\n",
       "adress                    232\n",
       "adressBystreet           7284\n",
       "dateOflicensing             0\n",
       "stateOfbusiness             0\n",
       "dateOfclosure           33587\n",
       "startdateOfcessation    46832\n",
       "duedateOfcessation      46832\n",
       "dateOfreOpen            46832\n",
       "areaOfsite              46832\n",
       "zip                     46832\n",
       "waterwork               17222\n",
       "numOfmenWorker          40914\n",
       "yearOfStart                19\n",
       "multipleUse                19\n",
       "grade                   43057\n",
       "sizeOfsite                 19\n",
       "numOfwomenWorker        39790\n",
       "vicintyOfsite           33938\n",
       "sanitaryName               19\n",
       "businessCondition          19\n",
       "totalOfworker           41295\n",
       "dtype: int64"
      ]
     },
     "execution_count": 21,
     "metadata": {},
     "output_type": "execute_result"
    }
   ],
   "source": [
    "(df0.isnull()).sum(axis=0)"
   ]
  },
  {
   "cell_type": "code",
   "execution_count": 22,
   "metadata": {},
   "outputs": [
    {
     "data": {
      "text/plain": [
       "number                  0.000000\n",
       "companyName             0.000000\n",
       "adress                  0.004954\n",
       "adressBystreet          0.155535\n",
       "dateOflicensing         0.000000\n",
       "stateOfbusiness         0.000000\n",
       "dateOfclosure           0.717181\n",
       "startdateOfcessation    1.000000\n",
       "duedateOfcessation      1.000000\n",
       "dateOfreOpen            1.000000\n",
       "areaOfsite              1.000000\n",
       "zip                     1.000000\n",
       "waterwork               0.367740\n",
       "numOfmenWorker          0.873633\n",
       "yearOfStart             0.000406\n",
       "multipleUse             0.000406\n",
       "grade                   0.919393\n",
       "sizeOfsite              0.000406\n",
       "numOfwomenWorker        0.849633\n",
       "vicintyOfsite           0.724675\n",
       "sanitaryName            0.000406\n",
       "businessCondition       0.000406\n",
       "totalOfworker           0.881769\n",
       "dtype: float64"
      ]
     },
     "execution_count": 22,
     "metadata": {},
     "output_type": "execute_result"
    }
   ],
   "source": [
    "(df0.isnull()).mean(axis=0)"
   ]
  },
  {
   "cell_type": "code",
   "execution_count": 23,
   "metadata": {},
   "outputs": [],
   "source": [
    "#x0 = np.array(df0.loc[:,'sizeOfsite'].dropna())\n",
    "x0 = df0.loc[:,'sizeOfsite'].dropna()"
   ]
  },
  {
   "cell_type": "code",
   "execution_count": 24,
   "metadata": {},
   "outputs": [
    {
     "data": {
      "text/plain": [
       "(46813,)"
      ]
     },
     "execution_count": 24,
     "metadata": {},
     "output_type": "execute_result"
    }
   ],
   "source": [
    "x0.shape"
   ]
  },
  {
   "cell_type": "code",
   "execution_count": 34,
   "metadata": {},
   "outputs": [
    {
     "data": {
      "image/png": "[encoded data removed]",
      "text/plain": [
       "<Figure size 432x288 with 1 Axes>"
      ]
     },
     "metadata": {
      "needs_background": "light"
     },
     "output_type": "display_data"
    }
   ],
   "source": [
    "plt.hist(x0, bins=50, color='green', density=True)\n",
    "plt.show()"
   ]
  },
  {
   "cell_type": "code",
   "execution_count": 26,
   "metadata": {},
   "outputs": [],
   "source": [
    "x=x0[x0 < 500]"
   ]
  },
  {
   "cell_type": "code",
   "execution_count": 30,
   "metadata": {},
   "outputs": [
    {
     "data": {
      "text/plain": [
       "24075.0"
      ]
     },
     "execution_count": 30,
     "metadata": {},
     "output_type": "execute_result"
    }
   ],
   "source": [
    "pd.unique(x0).max()"
   ]
  },
  {
   "cell_type": "code",
   "execution_count": 32,
   "metadata": {},
   "outputs": [
    {
     "data": {
      "text/plain": [
       "count    46813.000000\n",
       "mean        75.531012\n",
       "std        135.088745\n",
       "min          0.000000\n",
       "25%         28.120000\n",
       "50%         50.000000\n",
       "75%         93.750000\n",
       "max      24075.000000\n",
       "Name: sizeOfsite, dtype: float64"
      ]
     },
     "execution_count": 32,
     "metadata": {},
     "output_type": "execute_result"
    }
   ],
   "source": [
    "x0.describe()"
   ]
  },
  {
   "cell_type": "code",
   "execution_count": 27,
   "metadata": {},
   "outputs": [
    {
     "data": {
      "image/png": "[encoded data removed]",
      "text/plain": [
       "<Figure size 432x288 with 1 Axes>"
      ]
     },
     "metadata": {
      "needs_background": "light"
     },
     "output_type": "display_data"
    }
   ],
   "source": [
    "plt.hist(x,bins=50,color='blue', density=True)\n",
    "plt.show()"
   ]
  },
  {
   "cell_type": "markdown",
   "metadata": {},
   "source": [
    "로그변환(0이 아닌 양수인 실수)"
   ]
  },
  {
   "cell_type": "code",
   "execution_count": 41,
   "metadata": {},
   "outputs": [],
   "source": [
    "x=x0[(x0 < 500)& (x0>0)]"
   ]
  },
  {
   "cell_type": "code",
   "execution_count": 42,
   "metadata": {},
   "outputs": [
    {
     "name": "stderr",
     "output_type": "stream",
     "text": [
      "C:\\Users\\heaja\\Anaconda3\\envs\\myenv\\lib\\site-packages\\matplotlib\\backends\\backend_agg.py:211: RuntimeWarning: Glyph 8722 missing from current font.\n",
      "  font.set_text(s, 0.0, flags=flags)\n",
      "C:\\Users\\heaja\\Anaconda3\\envs\\myenv\\lib\\site-packages\\matplotlib\\backends\\backend_agg.py:180: RuntimeWarning: Glyph 8722 missing from current font.\n",
      "  font.set_text(s, 0, flags=flags)\n"
     ]
    },
    {
     "data": {
      "image/png": "[encoded data removed]",
      "text/plain": [
       "<Figure size 432x288 with 1 Axes>"
      ]
     },
     "metadata": {
      "needs_background": "light"
     },
     "output_type": "display_data"
    }
   ],
   "source": [
    "plt.hist(np.log(x),bins=50,color='blue', density=True)\n",
    "plt.show()"
   ]
  },
  {
   "cell_type": "code",
   "execution_count": null,
   "metadata": {},
   "outputs": [],
   "source": []
  },
  {
   "cell_type": "code",
   "execution_count": null,
   "metadata": {},
   "outputs": [],
   "source": []
  },
  {
   "cell_type": "code",
   "execution_count": null,
   "metadata": {},
   "outputs": [],
   "source": []
  }
 ],
 "metadata": {
  "kernelspec": {
   "display_name": "Python 3",
   "language": "python",
   "name": "python3"
  },
  "language_info": {
   "codemirror_mode": {
    "name": "ipython",
    "version": 3
   },
   "file_extension": ".py",
   "mimetype": "text/x-python",
   "name": "python",
   "nbconvert_exporter": "python",
   "pygments_lexer": "ipython3",
   "version": "3.6.9"
  }
 },
 "nbformat": 4,
 "nbformat_minor": 2
}
