{
 "cells": [
  {
   "cell_type": "markdown",
   "metadata": {},
   "source": [
    "### 크레딧 카드 사용 기록"
   ]
  },
  {
   "cell_type": "markdown",
   "metadata": {},
   "source": [
    "#### 필요한 패키지를 불러온다"
   ]
  },
  {
   "cell_type": "code",
   "execution_count": 2,
   "metadata": {},
   "outputs": [],
   "source": [
    "import numpy as np\n",
    "import pandas as pd\n",
    "import seaborn as sns\n",
    "import matplotlib.pyplot as plt\n",
    "import os\n",
    "import warnings\n",
    "warnings.filterwarnings('ignore')\n",
    "%matplotlib inline"
   ]
  },
  {
   "cell_type": "markdown",
   "metadata": {},
   "source": [
    "#### 데이터를 불러와서 살펴 본다"
   ]
  },
  {
   "cell_type": "code",
   "execution_count": 3,
   "metadata": {},
   "outputs": [],
   "source": [
    "os.chdir(r\"C:\\myPyCode2\\01 Python 분석 기초 - 실습\\data\")\n",
    "df = pd.read_csv('data_credit.csv', header='infer',encoding='latin1')"
   ]
  },
  {
   "cell_type": "code",
   "execution_count": 4,
   "metadata": {},
   "outputs": [
    {
     "data": {
      "text/plain": [
       "(3362796, 8)"
      ]
     },
     "execution_count": 4,
     "metadata": {},
     "output_type": "execute_result"
    }
   ],
   "source": [
    "df.shape"
   ]
  },
  {
   "cell_type": "code",
   "execution_count": 5,
   "metadata": {},
   "outputs": [
    {
     "data": {
      "text/html": [
       "<div>\n",
       "<style scoped>\n",
       "    .dataframe tbody tr th:only-of-type {\n",
       "        vertical-align: middle;\n",
       "    }\n",
       "\n",
       "    .dataframe tbody tr th {\n",
       "        vertical-align: top;\n",
       "    }\n",
       "\n",
       "    .dataframe thead th {\n",
       "        text-align: right;\n",
       "    }\n",
       "</style>\n",
       "<table border=\"1\" class=\"dataframe\">\n",
       "  <thead>\n",
       "    <tr style=\"text-align: right;\">\n",
       "      <th></th>\n",
       "      <th>store_id</th>\n",
       "      <th>date</th>\n",
       "      <th>time</th>\n",
       "      <th>card_id</th>\n",
       "      <th>amount</th>\n",
       "      <th>installments</th>\n",
       "      <th>days_of_week</th>\n",
       "      <th>holyday</th>\n",
       "    </tr>\n",
       "  </thead>\n",
       "  <tbody>\n",
       "    <tr>\n",
       "      <th>0</th>\n",
       "      <td>0</td>\n",
       "      <td>2016-12-14</td>\n",
       "      <td>18:05:31</td>\n",
       "      <td>d297bba73f</td>\n",
       "      <td>5</td>\n",
       "      <td>NaN</td>\n",
       "      <td>2</td>\n",
       "      <td>0</td>\n",
       "    </tr>\n",
       "    <tr>\n",
       "      <th>1</th>\n",
       "      <td>0</td>\n",
       "      <td>2016-12-14</td>\n",
       "      <td>18:05:54</td>\n",
       "      <td>d297bba73f</td>\n",
       "      <td>-5</td>\n",
       "      <td>NaN</td>\n",
       "      <td>2</td>\n",
       "      <td>0</td>\n",
       "    </tr>\n",
       "    <tr>\n",
       "      <th>2</th>\n",
       "      <td>0</td>\n",
       "      <td>2016-12-19</td>\n",
       "      <td>12:42:31</td>\n",
       "      <td>0880849c05</td>\n",
       "      <td>144</td>\n",
       "      <td>NaN</td>\n",
       "      <td>0</td>\n",
       "      <td>0</td>\n",
       "    </tr>\n",
       "    <tr>\n",
       "      <th>3</th>\n",
       "      <td>0</td>\n",
       "      <td>2016-12-19</td>\n",
       "      <td>12:48:08</td>\n",
       "      <td>8b4f9e0e95</td>\n",
       "      <td>66</td>\n",
       "      <td>NaN</td>\n",
       "      <td>0</td>\n",
       "      <td>0</td>\n",
       "    </tr>\n",
       "    <tr>\n",
       "      <th>4</th>\n",
       "      <td>0</td>\n",
       "      <td>2016-12-19</td>\n",
       "      <td>13:31:08</td>\n",
       "      <td>7ad237eed0</td>\n",
       "      <td>24</td>\n",
       "      <td>NaN</td>\n",
       "      <td>0</td>\n",
       "      <td>0</td>\n",
       "    </tr>\n",
       "  </tbody>\n",
       "</table>\n",
       "</div>"
      ],
      "text/plain": [
       "   store_id        date      time     card_id  amount  installments  \\\n",
       "0         0  2016-12-14  18:05:31  d297bba73f       5           NaN   \n",
       "1         0  2016-12-14  18:05:54  d297bba73f      -5           NaN   \n",
       "2         0  2016-12-19  12:42:31  0880849c05     144           NaN   \n",
       "3         0  2016-12-19  12:48:08  8b4f9e0e95      66           NaN   \n",
       "4         0  2016-12-19  13:31:08  7ad237eed0      24           NaN   \n",
       "\n",
       "   days_of_week  holyday  \n",
       "0             2        0  \n",
       "1             2        0  \n",
       "2             0        0  \n",
       "3             0        0  \n",
       "4             0        0  "
      ]
     },
     "execution_count": 5,
     "metadata": {},
     "output_type": "execute_result"
    }
   ],
   "source": [
    "df.head(5)"
   ]
  },
  {
   "cell_type": "markdown",
   "metadata": {},
   "source": [
    "#### 데이터를 클리닝하고 결측치 처리를 한다"
   ]
  },
  {
   "cell_type": "code",
   "execution_count": 6,
   "metadata": {},
   "outputs": [
    {
     "name": "stdout",
     "output_type": "stream",
     "text": [
      "store_id              0\n",
      "date                  0\n",
      "time                  0\n",
      "card_id               0\n",
      "amount                0\n",
      "installments    3345936\n",
      "days_of_week          0\n",
      "holyday               0\n",
      "dtype: int64\n"
     ]
    }
   ],
   "source": [
    "# 결측치가 분명히 있는 것 같으니 컬럼별 집계해 본다.\n",
    "nas = df.isnull()\n",
    "print(nas.sum(axis=0))"
   ]
  },
  {
   "cell_type": "code",
   "execution_count": 12,
   "metadata": {},
   "outputs": [
    {
     "data": {
      "text/plain": [
       "1.0     3345936\n",
       "3.0       10686\n",
       "2.0        3431\n",
       "5.0        1220\n",
       "6.0         647\n",
       "10.0        252\n",
       "4.0         209\n",
       "12.0        206\n",
       "24.0         96\n",
       "8.0          32\n",
       "7.0          28\n",
       "9.0          25\n",
       "18.0         11\n",
       "20.0          6\n",
       "36.0          5\n",
       "22.0          4\n",
       "15.0          2\n",
       "Name: installments, dtype: int64"
      ]
     },
     "execution_count": 12,
     "metadata": {},
     "output_type": "execute_result"
    }
   ],
   "source": [
    "# installments 변수의 도수분포를 본다.\n",
    "df['installments'].value_counts()"
   ]
  },
  {
   "cell_type": "code",
   "execution_count": 8,
   "metadata": {},
   "outputs": [
    {
     "data": {
      "text/html": [
       "<div>\n",
       "<style scoped>\n",
       "    .dataframe tbody tr th:only-of-type {\n",
       "        vertical-align: middle;\n",
       "    }\n",
       "\n",
       "    .dataframe tbody tr th {\n",
       "        vertical-align: top;\n",
       "    }\n",
       "\n",
       "    .dataframe thead th {\n",
       "        text-align: right;\n",
       "    }\n",
       "</style>\n",
       "<table border=\"1\" class=\"dataframe\">\n",
       "  <thead>\n",
       "    <tr style=\"text-align: right;\">\n",
       "      <th></th>\n",
       "      <th>store_id</th>\n",
       "      <th>date</th>\n",
       "      <th>time</th>\n",
       "      <th>card_id</th>\n",
       "      <th>amount</th>\n",
       "      <th>installments</th>\n",
       "      <th>days_of_week</th>\n",
       "      <th>holyday</th>\n",
       "    </tr>\n",
       "  </thead>\n",
       "  <tbody>\n",
       "    <tr>\n",
       "      <th>0</th>\n",
       "      <td>0</td>\n",
       "      <td>2016-12-14</td>\n",
       "      <td>18:05:31</td>\n",
       "      <td>d297bba73f</td>\n",
       "      <td>5</td>\n",
       "      <td>1.0</td>\n",
       "      <td>2</td>\n",
       "      <td>0</td>\n",
       "    </tr>\n",
       "    <tr>\n",
       "      <th>1</th>\n",
       "      <td>0</td>\n",
       "      <td>2016-12-14</td>\n",
       "      <td>18:05:54</td>\n",
       "      <td>d297bba73f</td>\n",
       "      <td>-5</td>\n",
       "      <td>1.0</td>\n",
       "      <td>2</td>\n",
       "      <td>0</td>\n",
       "    </tr>\n",
       "    <tr>\n",
       "      <th>2</th>\n",
       "      <td>0</td>\n",
       "      <td>2016-12-19</td>\n",
       "      <td>12:42:31</td>\n",
       "      <td>0880849c05</td>\n",
       "      <td>144</td>\n",
       "      <td>1.0</td>\n",
       "      <td>0</td>\n",
       "      <td>0</td>\n",
       "    </tr>\n",
       "    <tr>\n",
       "      <th>3</th>\n",
       "      <td>0</td>\n",
       "      <td>2016-12-19</td>\n",
       "      <td>12:48:08</td>\n",
       "      <td>8b4f9e0e95</td>\n",
       "      <td>66</td>\n",
       "      <td>1.0</td>\n",
       "      <td>0</td>\n",
       "      <td>0</td>\n",
       "    </tr>\n",
       "    <tr>\n",
       "      <th>4</th>\n",
       "      <td>0</td>\n",
       "      <td>2016-12-19</td>\n",
       "      <td>13:31:08</td>\n",
       "      <td>7ad237eed0</td>\n",
       "      <td>24</td>\n",
       "      <td>1.0</td>\n",
       "      <td>0</td>\n",
       "      <td>0</td>\n",
       "    </tr>\n",
       "  </tbody>\n",
       "</table>\n",
       "</div>"
      ],
      "text/plain": [
       "   store_id        date      time     card_id  amount  installments  \\\n",
       "0         0  2016-12-14  18:05:31  d297bba73f       5           1.0   \n",
       "1         0  2016-12-14  18:05:54  d297bba73f      -5           1.0   \n",
       "2         0  2016-12-19  12:42:31  0880849c05     144           1.0   \n",
       "3         0  2016-12-19  12:48:08  8b4f9e0e95      66           1.0   \n",
       "4         0  2016-12-19  13:31:08  7ad237eed0      24           1.0   \n",
       "\n",
       "   days_of_week  holyday  \n",
       "0             2        0  \n",
       "1             2        0  \n",
       "2             0        0  \n",
       "3             0        0  \n",
       "4             0        0  "
      ]
     },
     "execution_count": 8,
     "metadata": {},
     "output_type": "execute_result"
    }
   ],
   "source": [
    "# 일시불이 NA로 처리 되었으니 결측치를 1로 채운다.\n",
    "df = df.fillna(value=1)\n",
    "df.head(5)"
   ]
  },
  {
   "cell_type": "code",
   "execution_count": null,
   "metadata": {},
   "outputs": [],
   "source": [
    "# 다시 installments 변수의 도수분포를 본다.\n",
    "df['installments'].value_counts()"
   ]
  },
  {
   "cell_type": "code",
   "execution_count": null,
   "metadata": {},
   "outputs": [],
   "source": [
    "# 일단 date와 time은 사용하지 않겠으니 제거한다\n",
    "df = df.drop(columns=['date','time'])\n",
    "df.head(5)"
   ]
  },
  {
   "cell_type": "markdown",
   "metadata": {},
   "source": [
    "#### 개개 변수를 다양한 방법으로 요약하고 시각화 한다"
   ]
  },
  {
   "cell_type": "code",
   "execution_count": 13,
   "metadata": {},
   "outputs": [
    {
     "data": {
      "image/png": "[encoded data removed]",
      "text/plain": [
       "<Figure size 432x288 with 1 Axes>"
      ]
     },
     "metadata": {
      "needs_background": "light"
     },
     "output_type": "display_data"
    }
   ],
   "source": [
    "#\n",
    "# store_id의 도수의 히스토그램.\n",
    "#\n",
    "freq1 = df['store_id'].value_counts()\n",
    "freq1.plot.hist(bins=50,color=\"turquoise\",alpha=0.5)\n",
    "#sns.distplot(freq1.values,bins=50,color=\"turquoise\")\n",
    "plt.show()"
   ]
  },
  {
   "cell_type": "code",
   "execution_count": 14,
   "metadata": {},
   "outputs": [
    {
     "data": {
      "image/png": "[encoded data removed]",
      "text/plain": [
       "<Figure size 432x288 with 1 Axes>"
      ]
     },
     "metadata": {
      "needs_background": "light"
     },
     "output_type": "display_data"
    }
   ],
   "source": [
    "# 큰 skew를 보이므로 log 변환해 본다.\n",
    "freq1b = np.log(freq1+1)\n",
    "freq1b.plot.hist(bins=30,color=\"turquoise\",alpha=0.5)\n",
    "plt.show()"
   ]
  },
  {
   "cell_type": "code",
   "execution_count": 16,
   "metadata": {},
   "outputs": [
    {
     "name": "stdout",
     "output_type": "stream",
     "text": [
      "492.0\n"
     ]
    }
   ],
   "source": [
    "# 중위수를 계산해 본다.\n",
    "print(np.median(freq1))"
   ]
  },
  {
   "cell_type": "code",
   "execution_count": 17,
   "metadata": {},
   "outputs": [
    {
     "data": {
      "text/plain": [
       "0       68773\n",
       "753     39318\n",
       "105     36063\n",
       "1342    33335\n",
       "428     33285\n",
       "221     31409\n",
       "161     27170\n",
       "1038    25694\n",
       "323     25221\n",
       "1366    24946\n",
       "Name: store_id, dtype: int64"
      ]
     },
     "execution_count": 17,
     "metadata": {},
     "output_type": "execute_result"
    }
   ],
   "source": [
    "# Top sore id를 본다.\n",
    "freq1.sort_values(ascending=False)[:10]"
   ]
  },
  {
   "cell_type": "code",
   "execution_count": 18,
   "metadata": {},
   "outputs": [
    {
     "data": {
      "image/png": "[encoded data removed]",
      "text/plain": [
       "<Figure size 432x288 with 1 Axes>"
      ]
     },
     "metadata": {
      "needs_background": "light"
     },
     "output_type": "display_data"
    }
   ],
   "source": [
    "#\n",
    "# card_id의 도수의 히스토그램.\n",
    "#\n",
    "freq2 = df['card_id'].value_counts()\n",
    "freq2.plot.hist(bins=50,color=\"green\",alpha=0.5)\n",
    "#sns.distplot(freq2.values,bins=50,color=\"green\")\n",
    "plt.show()"
   ]
  },
  {
   "cell_type": "code",
   "execution_count": 19,
   "metadata": {
    "scrolled": true
   },
   "outputs": [
    {
     "data": {
      "image/png": "[encoded data removed]",
      "text/plain": [
       "<Figure size 432x288 with 1 Axes>"
      ]
     },
     "metadata": {
      "needs_background": "light"
     },
     "output_type": "display_data"
    }
   ],
   "source": [
    "# 큰 skew를 보이므로 log 변환해 본다.\n",
    "freq2b = np.log(freq2+1)\n",
    "freq2b.plot.hist(bins=20,color=\"green\",alpha=0.5)\n",
    "#sns.distplot(freq2b.values,bins=20,color=\"green\",kde=False)\n",
    "plt.show()"
   ]
  },
  {
   "cell_type": "code",
   "execution_count": 20,
   "metadata": {
    "scrolled": true
   },
   "outputs": [
    {
     "data": {
      "text/plain": [
       "53817035d4    835\n",
       "93bba5079c    512\n",
       "994b71a98a    458\n",
       "18549044f3    453\n",
       "6b2d18c5c5    433\n",
       "10a5c30cda    425\n",
       "06e61d93b8    423\n",
       "5cf0b23473    413\n",
       "0177959e09    409\n",
       "a9a1e3d97d    405\n",
       "Name: card_id, dtype: int64"
      ]
     },
     "execution_count": 20,
     "metadata": {},
     "output_type": "execute_result"
    }
   ],
   "source": [
    "# 사용 횟수 Top 10 card id를 본다.\n",
    "freq2.sort_values(ascending=False)[:10]"
   ]
  },
  {
   "cell_type": "code",
   "execution_count": 21,
   "metadata": {},
   "outputs": [
    {
     "data": {
      "image/png": "[encoded data removed]",
      "text/plain": [
       "<Figure size 432x288 with 1 Axes>"
      ]
     },
     "metadata": {
      "needs_background": "light"
     },
     "output_type": "display_data"
    }
   ],
   "source": [
    "#\n",
    "# amount의 히스토그램.\n",
    "# \n",
    "df['amount'].plot.hist(bins=10)\n",
    "# sns.distplot(df.amount,bins=10,kde=False)\n",
    "plt.show()"
   ]
  },
  {
   "cell_type": "code",
   "execution_count": 23,
   "metadata": {},
   "outputs": [
    {
     "data": {
      "text/plain": [
       "0.9896"
      ]
     },
     "execution_count": 23,
     "metadata": {},
     "output_type": "execute_result"
    }
   ],
   "source": [
    "# 실제 구매 or Cancel.\n",
    "ser = df.amount > 0\n",
    "np.round(ser.mean(),4)             # 실제 구매의 퍼센티지."
   ]
  },
  {
   "cell_type": "code",
   "execution_count": 24,
   "metadata": {},
   "outputs": [
    {
     "name": "stdout",
     "output_type": "stream",
     "text": [
      "installments의 가짓수 = 17\n"
     ]
    }
   ],
   "source": [
    "#\n",
    "# installments의 막대그림.\n",
    "# \n",
    "freq3 = df['installments'].value_counts()\n",
    "print(\"installments의 가짓수 = {}\".format((freq3.index).nunique()))"
   ]
  },
  {
   "cell_type": "code",
   "execution_count": 25,
   "metadata": {},
   "outputs": [
    {
     "data": {
      "image/png": "[encoded data removed]",
      "text/plain": [
       "<Figure size 432x288 with 1 Axes>"
      ]
     },
     "metadata": {
      "needs_background": "light"
     },
     "output_type": "display_data"
    }
   ],
   "source": [
    "# 도수 분포를 본다.\n",
    "freq3 = freq3.sort_index()\n",
    "df2 = pd.DataFrame({\"Installment\": freq3.index, \"Counts\":freq3.values})\n",
    "df2.plot.bar(x=\"Installment\")\n",
    "#sns.countplot(data=df, x='installments')   # Seaborn의 countplot이 집계하여 보여준다.\n",
    "plt.show()"
   ]
  },
  {
   "cell_type": "code",
   "execution_count": 29,
   "metadata": {},
   "outputs": [
    {
     "data": {
      "image/png": "[encoded data removed]",
      "text/plain": [
       "<Figure size 432x288 with 1 Axes>"
      ]
     },
     "metadata": {
      "needs_background": "light"
     },
     "output_type": "display_data"
    }
   ],
   "source": [
    "sns.countplot(data=df, x='installments')   # Seaborn의 countplot이 집계하여 보여준다.\n",
    "plt.show()"
   ]
  },
  {
   "cell_type": "code",
   "execution_count": 32,
   "metadata": {
    "scrolled": true
   },
   "outputs": [
    {
     "data": {
      "image/png": "[encoded data removed]",
      "text/plain": [
       "<Figure size 432x288 with 1 Axes>"
      ]
     },
     "metadata": {
      "needs_background": "light"
     },
     "output_type": "display_data"
    }
   ],
   "source": [
    "# not good example ...\n",
    "freq3 = freq3.sort_index()\n",
    "df2 = pd.DataFrame({\"Installment\": freq3.index, \"Counts\":freq3.values})\n",
    "df2.plot.bar(y=\"Installment\")\n",
    "plt.show()"
   ]
  },
  {
   "cell_type": "code",
   "execution_count": 30,
   "metadata": {},
   "outputs": [
    {
     "data": {
      "image/png": "[encoded data removed]",
      "text/plain": [
       "<Figure size 432x288 with 1 Axes>"
      ]
     },
     "metadata": {
      "needs_background": "light"
     },
     "output_type": "display_data"
    }
   ],
   "source": [
    "# installment = 1 (일시불)이 너무나 많으니 제거하고 다시 시각화 해본다.\n",
    "freq3b = df[df.installments != 1]['installments'].value_counts()\n",
    "freq3b = freq3b.sort_index()\n",
    "df2 = pd.DataFrame({\"Installment\": freq3b.index, \"Counts\":freq3b.values})\n",
    "df2.plot.bar(x=\"Installment\")\n",
    "#sns.countplot(data=df[df.installments != 1], x='installments')\n",
    "plt.show()"
   ]
  },
  {
   "cell_type": "code",
   "execution_count": 47,
   "metadata": {},
   "outputs": [
    {
     "name": "stdout",
     "output_type": "stream",
     "text": [
      "days of week의 가짓수 = 7\n"
     ]
    },
    {
     "data": {
      "image/png": "[encoded data removed]",
      "text/plain": [
       "<Figure size 432x288 with 1 Axes>"
      ]
     },
     "metadata": {
      "needs_background": "light"
     },
     "output_type": "display_data"
    }
   ],
   "source": [
    "#\n",
    "# days_of_week의 도수 막대그림.\n",
    "# \n",
    "freq4 = df['days_of_week'].value_counts()\n",
    "freq4 = freq4.sort_index()\n",
    "df2 = pd.DataFrame({\"Days of Week\": freq4.index, \"Counts\":freq4.values})\n",
    "df2.plot.bar(x=\"Days of Week\",color='pink')\n",
    "print(\"days of week의 가짓수 = {}\".format((freq4.index).nunique()))\n",
    "plt.show()"
   ]
  },
  {
   "cell_type": "code",
   "execution_count": 34,
   "metadata": {},
   "outputs": [
    {
     "data": {
      "image/png": "[encoded data removed]",
      "text/plain": [
       "<Figure size 432x288 with 1 Axes>"
      ]
     },
     "metadata": {
      "needs_background": "light"
     },
     "output_type": "display_data"
    }
   ],
   "source": [
    "# for seaborn\n",
    " sns.countplot(data=df, x='days_of_week')\n",
    " plt.show()"
   ]
  },
  {
   "cell_type": "code",
   "execution_count": 53,
   "metadata": {},
   "outputs": [
    {
     "data": {
      "image/png": "[encoded data removed]",
      "text/plain": [
       "<Figure size 432x288 with 1 Axes>"
      ]
     },
     "metadata": {
      "needs_background": "light"
     },
     "output_type": "display_data"
    }
   ],
   "source": [
    "#\n",
    "# holiday의 막대그림.\n",
    "# \n",
    "freq5 = df['holyday'].value_counts()                    # 스펠링 오류!!! \n",
    "freq5 = freq5.sort_index()\n",
    "df2 = pd.DataFrame({\"Holiday\": freq5.index, \"Counts\":freq5.values})\n",
    "df2.plot.bar(x=\"Holiday\",color='darkblue')\n",
    "plt.show()"
   ]
  },
  {
   "cell_type": "markdown",
   "metadata": {},
   "source": [
    "#### 일변량 요약과 시각화"
   ]
  },
  {
   "cell_type": "code",
   "execution_count": 54,
   "metadata": {},
   "outputs": [
    {
     "data": {
      "text/plain": [
       "holyday\n",
       "0    146.476094\n",
       "1    134.881488\n",
       "Name: amount, dtype: float64"
      ]
     },
     "execution_count": 54,
     "metadata": {},
     "output_type": "execute_result"
    }
   ],
   "source": [
    "# 휴일 여부별 평균 사용 금액.\n",
    "df.groupby('holyday')['amount'].mean()"
   ]
  },
  {
   "cell_type": "code",
   "execution_count": 55,
   "metadata": {},
   "outputs": [
    {
     "data": {
      "text/plain": [
       "days_of_week\n",
       "0    143.199131\n",
       "1    148.230134\n",
       "2    149.429079\n",
       "3    150.447155\n",
       "4    150.952690\n",
       "5    146.961930\n",
       "6    131.532084\n",
       "Name: amount, dtype: float64"
      ]
     },
     "execution_count": 55,
     "metadata": {},
     "output_type": "execute_result"
    }
   ],
   "source": [
    "# 요일별 평균 결제 금액.\n",
    "ser1 = df.groupby('days_of_week')['amount'].mean()\n",
    "ser1"
   ]
  },
  {
   "cell_type": "code",
   "execution_count": 56,
   "metadata": {
    "scrolled": true
   },
   "outputs": [
    {
     "data": {
      "image/png": "[encoded data removed]",
      "text/plain": [
       "<Figure size 432x288 with 1 Axes>"
      ]
     },
     "metadata": {
      "needs_background": "light"
     },
     "output_type": "display_data"
    }
   ],
   "source": [
    "# 시각화.\n",
    "pd.DataFrame({\"Days of Week\":ser1.index, \"Amount\":ser1.values}).plot.bar(x=\"Days of Week\")\n",
    "plt.show()"
   ]
  },
  {
   "cell_type": "code",
   "execution_count": 57,
   "metadata": {},
   "outputs": [
    {
     "data": {
      "image/png": "[encoded data removed]",
      "text/plain": [
       "<Figure size 432x288 with 1 Axes>"
      ]
     },
     "metadata": {
      "needs_background": "light"
     },
     "output_type": "display_data"
    }
   ],
   "source": [
    "# store_id 별 평균 결제 금액.\n",
    "ser2 = df.groupby('store_id')['amount'].mean()\n",
    "ser2.plot.hist(x=\"Store ID\",title=\"Mean Amount by Store\",bins=50)\n",
    "plt.show()"
   ]
  },
  {
   "cell_type": "code",
   "execution_count": 75,
   "metadata": {},
   "outputs": [
    {
     "data": {
      "text/plain": [
       "store_id\n",
       "753     9474601\n",
       "1342    7301327\n",
       "161     5236075\n",
       "0       5234611\n",
       "958     4965728\n",
       "1076    4860885\n",
       "810     3677501\n",
       "1024    3330293\n",
       "486     3235482\n",
       "597     2999180\n",
       "Name: amount, dtype: int64"
      ]
     },
     "execution_count": 75,
     "metadata": {},
     "output_type": "execute_result"
    }
   ],
   "source": [
    "# store_id 별 Total 결제 금액. Top 10.\n",
    "ser2b = df.groupby('store_id')['amount'].sum()\n",
    "ser2b.sort_values(ascending=False)[:10]"
   ]
  },
  {
   "cell_type": "code",
   "execution_count": 79,
   "metadata": {},
   "outputs": [
    {
     "data": {
      "image/png": "[encoded data removed]",
      "text/plain": [
       "<Figure size 432x288 with 1 Axes>"
      ]
     },
     "metadata": {
      "needs_background": "light"
     },
     "output_type": "display_data"
    }
   ],
   "source": [
    "# card_id 별 평균 결제 금액.\n",
    "ser3 = df.groupby('card_id')['amount'].mean()\n",
    "ser3.plot.hist(bins=50)\n",
    "plt.show()"
   ]
  },
  {
   "cell_type": "code",
   "execution_count": 80,
   "metadata": {},
   "outputs": [
    {
     "data": {
      "text/plain": [
       "card_id\n",
       "f8218bde68    761667\n",
       "4a26873e51    562793\n",
       "d8b799ac0c    551625\n",
       "de78de56a0    534700\n",
       "2796a2b778    375918\n",
       "a5a894cfa6    344577\n",
       "3a9deab63f    333884\n",
       "46a88eb161    283820\n",
       "10a5c30cda    241858\n",
       "48e87aab97    235428\n",
       "Name: amount, dtype: int64"
      ]
     },
     "execution_count": 80,
     "metadata": {},
     "output_type": "execute_result"
    }
   ],
   "source": [
    "# card_id 별 Total 결제 금액. Top 10.\n",
    "ser3b = df.groupby('card_id')['amount'].sum()\n",
    "ser3b.sort_values(ascending=False)[:10]"
   ]
  },
  {
   "cell_type": "markdown",
   "metadata": {},
   "source": [
    "#### 분류"
   ]
  },
  {
   "cell_type": "code",
   "execution_count": 81,
   "metadata": {},
   "outputs": [
    {
     "data": {
      "text/html": [
       "<div>\n",
       "<style scoped>\n",
       "    .dataframe tbody tr th:only-of-type {\n",
       "        vertical-align: middle;\n",
       "    }\n",
       "\n",
       "    .dataframe tbody tr th {\n",
       "        vertical-align: top;\n",
       "    }\n",
       "\n",
       "    .dataframe thead th {\n",
       "        text-align: right;\n",
       "    }\n",
       "</style>\n",
       "<table border=\"1\" class=\"dataframe\">\n",
       "  <thead>\n",
       "    <tr style=\"text-align: right;\">\n",
       "      <th></th>\n",
       "      <th>Store ID</th>\n",
       "      <th>Amount</th>\n",
       "      <th>Category</th>\n",
       "    </tr>\n",
       "  </thead>\n",
       "  <tbody>\n",
       "    <tr>\n",
       "      <th>0</th>\n",
       "      <td>0</td>\n",
       "      <td>5234611</td>\n",
       "      <td>High</td>\n",
       "    </tr>\n",
       "    <tr>\n",
       "      <th>1</th>\n",
       "      <td>1</td>\n",
       "      <td>147950</td>\n",
       "      <td>Medium</td>\n",
       "    </tr>\n",
       "    <tr>\n",
       "      <th>2</th>\n",
       "      <td>2</td>\n",
       "      <td>1615060</td>\n",
       "      <td>High</td>\n",
       "    </tr>\n",
       "    <tr>\n",
       "      <th>3</th>\n",
       "      <td>3</td>\n",
       "      <td>62781</td>\n",
       "      <td>Medium</td>\n",
       "    </tr>\n",
       "    <tr>\n",
       "      <th>4</th>\n",
       "      <td>4</td>\n",
       "      <td>270312</td>\n",
       "      <td>High</td>\n",
       "    </tr>\n",
       "    <tr>\n",
       "      <th>5</th>\n",
       "      <td>5</td>\n",
       "      <td>184437</td>\n",
       "      <td>Medium</td>\n",
       "    </tr>\n",
       "    <tr>\n",
       "      <th>6</th>\n",
       "      <td>6</td>\n",
       "      <td>1389983</td>\n",
       "      <td>High</td>\n",
       "    </tr>\n",
       "    <tr>\n",
       "      <th>7</th>\n",
       "      <td>7</td>\n",
       "      <td>109510</td>\n",
       "      <td>Medium</td>\n",
       "    </tr>\n",
       "    <tr>\n",
       "      <th>8</th>\n",
       "      <td>8</td>\n",
       "      <td>515535</td>\n",
       "      <td>High</td>\n",
       "    </tr>\n",
       "    <tr>\n",
       "      <th>9</th>\n",
       "      <td>9</td>\n",
       "      <td>19760</td>\n",
       "      <td>Low</td>\n",
       "    </tr>\n",
       "  </tbody>\n",
       "</table>\n",
       "</div>"
      ],
      "text/plain": [
       "   Store ID   Amount Category\n",
       "0         0  5234611     High\n",
       "1         1   147950   Medium\n",
       "2         2  1615060     High\n",
       "3         3    62781   Medium\n",
       "4         4   270312     High\n",
       "5         5   184437   Medium\n",
       "6         6  1389983     High\n",
       "7         7   109510   Medium\n",
       "8         8   515535     High\n",
       "9         9    19760      Low"
      ]
     },
     "execution_count": 81,
     "metadata": {},
     "output_type": "execute_result"
    }
   ],
   "source": [
    "#\n",
    "# store_id 별 Total 결제 금액에 의한 3 등급 분류.\n",
    "#\n",
    "ser2c = pd.qcut(ser2b,3,labels=['Low', 'Medium', 'High'])                      # qcut() 함수 사용!\n",
    "combo2 = pd.DataFrame({\"Store ID\":ser2b.index, \"Amount\":ser2b.values, \"Category\":ser2c.values})\n",
    "combo2.head(10)"
   ]
  },
  {
   "cell_type": "code",
   "execution_count": 82,
   "metadata": {},
   "outputs": [
    {
     "data": {
      "text/plain": [
       "Category\n",
       "Low        23272.582770\n",
       "Medium    125787.788494\n",
       "High      680276.184122\n",
       "Name: Amount, dtype: float64"
      ]
     },
     "execution_count": 82,
     "metadata": {},
     "output_type": "execute_result"
    }
   ],
   "source": [
    "# 등급별 평균.\n",
    "combo2.groupby(\"Category\")[\"Amount\"].mean()"
   ]
  },
  {
   "cell_type": "code",
   "execution_count": 83,
   "metadata": {},
   "outputs": [
    {
     "data": {
      "text/html": [
       "<div>\n",
       "<style scoped>\n",
       "    .dataframe tbody tr th:only-of-type {\n",
       "        vertical-align: middle;\n",
       "    }\n",
       "\n",
       "    .dataframe tbody tr th {\n",
       "        vertical-align: top;\n",
       "    }\n",
       "\n",
       "    .dataframe thead th {\n",
       "        text-align: right;\n",
       "    }\n",
       "</style>\n",
       "<table border=\"1\" class=\"dataframe\">\n",
       "  <thead>\n",
       "    <tr style=\"text-align: right;\">\n",
       "      <th></th>\n",
       "      <th>Card ID</th>\n",
       "      <th>Amount</th>\n",
       "      <th>Category</th>\n",
       "    </tr>\n",
       "  </thead>\n",
       "  <tbody>\n",
       "    <tr>\n",
       "      <th>0</th>\n",
       "      <td>000009e765</td>\n",
       "      <td>10</td>\n",
       "      <td>Low</td>\n",
       "    </tr>\n",
       "    <tr>\n",
       "      <th>1</th>\n",
       "      <td>00000f9eaa</td>\n",
       "      <td>331</td>\n",
       "      <td>Medium</td>\n",
       "    </tr>\n",
       "    <tr>\n",
       "      <th>2</th>\n",
       "      <td>0000134335</td>\n",
       "      <td>90</td>\n",
       "      <td>Low</td>\n",
       "    </tr>\n",
       "    <tr>\n",
       "      <th>3</th>\n",
       "      <td>000024f480</td>\n",
       "      <td>80</td>\n",
       "      <td>Low</td>\n",
       "    </tr>\n",
       "    <tr>\n",
       "      <th>4</th>\n",
       "      <td>000036a26b</td>\n",
       "      <td>720</td>\n",
       "      <td>High</td>\n",
       "    </tr>\n",
       "    <tr>\n",
       "      <th>5</th>\n",
       "      <td>00003c84e3</td>\n",
       "      <td>255</td>\n",
       "      <td>Medium</td>\n",
       "    </tr>\n",
       "    <tr>\n",
       "      <th>6</th>\n",
       "      <td>00003cb9a7</td>\n",
       "      <td>85</td>\n",
       "      <td>Low</td>\n",
       "    </tr>\n",
       "    <tr>\n",
       "      <th>7</th>\n",
       "      <td>000043b1cb</td>\n",
       "      <td>1186</td>\n",
       "      <td>High</td>\n",
       "    </tr>\n",
       "    <tr>\n",
       "      <th>8</th>\n",
       "      <td>000055e420</td>\n",
       "      <td>187</td>\n",
       "      <td>Medium</td>\n",
       "    </tr>\n",
       "    <tr>\n",
       "      <th>9</th>\n",
       "      <td>00008a3f32</td>\n",
       "      <td>335</td>\n",
       "      <td>Medium</td>\n",
       "    </tr>\n",
       "  </tbody>\n",
       "</table>\n",
       "</div>"
      ],
      "text/plain": [
       "      Card ID  Amount Category\n",
       "0  000009e765      10      Low\n",
       "1  00000f9eaa     331   Medium\n",
       "2  0000134335      90      Low\n",
       "3  000024f480      80      Low\n",
       "4  000036a26b     720     High\n",
       "5  00003c84e3     255   Medium\n",
       "6  00003cb9a7      85      Low\n",
       "7  000043b1cb    1186     High\n",
       "8  000055e420     187   Medium\n",
       "9  00008a3f32     335   Medium"
      ]
     },
     "execution_count": 83,
     "metadata": {},
     "output_type": "execute_result"
    }
   ],
   "source": [
    "#\n",
    "# card_id 별 Total 결제 금액에 의한 3 등급 분류.\n",
    "#\n",
    "ser3c = pd.qcut(ser3b,3,labels=['Low', 'Medium', 'High'])\n",
    "combo3 = pd.DataFrame({\"Card ID\":ser3b.index,\"Amount\":ser3b.values, \"Category\":ser3c.values})\n",
    "combo3.head(10)"
   ]
  },
  {
   "cell_type": "code",
   "execution_count": 84,
   "metadata": {},
   "outputs": [
    {
     "data": {
      "text/plain": [
       "Category\n",
       "Low         63.729680\n",
       "Medium     219.315716\n",
       "High      1318.055873\n",
       "Name: Amount, dtype: float64"
      ]
     },
     "execution_count": 84,
     "metadata": {},
     "output_type": "execute_result"
    }
   ],
   "source": [
    "# 등급별 평균.\n",
    "combo3.groupby(\"Category\")[\"Amount\"].mean()"
   ]
  },
  {
   "cell_type": "code",
   "execution_count": null,
   "metadata": {},
   "outputs": [],
   "source": []
  }
 ],
 "metadata": {
  "kernelspec": {
   "display_name": "Python 3",
   "language": "python",
   "name": "python3"
  },
  "language_info": {
   "codemirror_mode": {
    "name": "ipython",
    "version": 3
   },
   "file_extension": ".py",
   "mimetype": "text/x-python",
   "name": "python",
   "nbconvert_exporter": "python",
   "pygments_lexer": "ipython3",
   "version": "3.6.9"
  }
 },
 "nbformat": 4,
 "nbformat_minor": 2
}
